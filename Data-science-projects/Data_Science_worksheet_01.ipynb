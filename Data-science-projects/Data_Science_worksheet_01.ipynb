{
  "nbformat": 4,
  "nbformat_minor": 0,
  "metadata": {
    "colab": {
      "provenance": []
    },
    "kernelspec": {
      "name": "python3",
      "display_name": "Python 3"
    },
    "language_info": {
      "name": "python"
    }
  },
  "cells": [
    {
      "cell_type": "markdown",
      "source": [
        "**1]Operators**\n",
        "\n",
        "a)Arithmetic Operator\n",
        "\n",
        "b)Comparison Operator\n",
        "\n",
        "c)Logical Operator"
      ],
      "metadata": {
        "id": "mAM3pUxq6au4"
      }
    },
    {
      "cell_type": "code",
      "source": [
        "#Arithmetic Operator\n",
        "a = int(input(\"Enter first number: \"))\n",
        "b = int(input(\"Enter second number: \"))\n",
        "\n",
        "print(f\"Addition of two numbers : {a+b}\")\n",
        "print(f\"Subtraction of two numbers: {a-b}\")\n",
        "print(\"Multiplication of two numbers: \", a*b)\n",
        "print(\"Division of two numbers: \", a/b)\n",
        "print(\"Modules of two numbers: \", a%b)\n",
        "print(\"Floor division of two numbers: \", a//b)\n",
        "print(\"Exponent of two numbers: \", a**b)"
      ],
      "metadata": {
        "colab": {
          "base_uri": "https://localhost:8080/"
        },
        "id": "pQixVCX6DQsT",
        "outputId": "405a106c-d678-4b4c-915f-7e4106a1543d"
      },
      "execution_count": null,
      "outputs": [
        {
          "output_type": "stream",
          "name": "stdout",
          "text": [
            "Enter first number: 34\n",
            "Enter second number: 33\n",
            "Addition of two numbers : 67\n",
            "Subtraction of two numbers: 1\n",
            "Multiplication of two numbers:  1122\n",
            "Division of two numbers:  1.0303030303030303\n",
            "Modules of two numbers:  1\n",
            "Floor division of two numbers:  1\n",
            "Exponent of two numbers:  345783497216724000335707367685598692782880644399104\n"
          ]
        }
      ]
    },
    {
      "cell_type": "code",
      "source": [
        "#Comparison Operator\n",
        "a = int(input(\"Enter first number : \"))\n",
        "b = int(input(\"Enter first number : \"))\n",
        "\n",
        "print(f\"{a} is less than {b} : {a<b}\")\n",
        "print(f\"{a} is less than or equal to {b} : {a<=b}\")\n",
        "print(f\"{a} is greater than {b} : {a>b}\")\n",
        "print(f\"{a} is greater than or equal to {b} : {a>=b}\")\n",
        "print(f\"{a} is not equal to {b} : {a!=b}\")\n",
        "print(f\"{a} is equal to {b} : {a==b}\")"
      ],
      "metadata": {
        "colab": {
          "base_uri": "https://localhost:8080/"
        },
        "id": "ERDOmZjFD8NF",
        "outputId": "770a310e-4614-4f26-9514-b904fd4e06c2"
      },
      "execution_count": null,
      "outputs": [
        {
          "output_type": "stream",
          "name": "stdout",
          "text": [
            "Enter first number : 12\n",
            "Enter first number : 5\n",
            "12 is less than 5 : False\n",
            "12 is less than or equal to 5 : False\n",
            "12 is greater than 5 : True\n",
            "12 is greater than or equal to 5 : True\n",
            "12 is not equal to 5 : True\n",
            "12 is equal to 5 : False\n"
          ]
        }
      ]
    },
    {
      "cell_type": "code",
      "source": [
        "#Logical Operator - 0 as false, 1 as true\n",
        "a = int(input(\"Enter 0 or 1 : \"))\n",
        "b = int(input(\"Enter 0 or 1 : \"))\n",
        "\n",
        "print(f\"{a} and {b} : {a and b}\")\n",
        "print(f\"{a} or {b} : {a or b}\")\n",
        "print(f\"not {a} : {not a}\")"
      ],
      "metadata": {
        "colab": {
          "base_uri": "https://localhost:8080/"
        },
        "id": "9Zf37X22FmoI",
        "outputId": "9ba98711-c30c-467c-ba06-554e6c43ee68"
      },
      "execution_count": null,
      "outputs": [
        {
          "output_type": "stream",
          "name": "stdout",
          "text": [
            "Enter 0 or 1 : 1\n",
            "Enter 0 or 1 : 0\n",
            "1 and 0 : 0\n",
            "1 or 0 : 1\n",
            "not 1 : False\n"
          ]
        }
      ]
    },
    {
      "cell_type": "code",
      "source": [
        "\"datta \" *23"
      ],
      "metadata": {
        "colab": {
          "base_uri": "https://localhost:8080/",
          "height": 35
        },
        "id": "ttytxBr1KnWX",
        "outputId": "2eb7bab3-a622-458d-8226-98179ad74a3a"
      },
      "execution_count": null,
      "outputs": [
        {
          "output_type": "execute_result",
          "data": {
            "text/plain": [
              "'datta datta datta datta datta datta datta datta datta datta datta datta datta datta datta datta datta datta datta datta datta datta datta '"
            ],
            "application/vnd.google.colaboratory.intrinsic+json": {
              "type": "string"
            }
          },
          "metadata": {},
          "execution_count": 22
        }
      ]
    },
    {
      "cell_type": "code",
      "source": [
        "\"datta\" or 1"
      ],
      "metadata": {
        "colab": {
          "base_uri": "https://localhost:8080/",
          "height": 35
        },
        "id": "5_rc_ixEKzt_",
        "outputId": "b53b1908-4dfb-4836-a645-3794ab15abf4"
      },
      "execution_count": null,
      "outputs": [
        {
          "output_type": "execute_result",
          "data": {
            "text/plain": [
              "'datta'"
            ],
            "application/vnd.google.colaboratory.intrinsic+json": {
              "type": "string"
            }
          },
          "metadata": {},
          "execution_count": 24
        }
      ]
    },
    {
      "cell_type": "code",
      "source": [
        "not -45678"
      ],
      "metadata": {
        "colab": {
          "base_uri": "https://localhost:8080/"
        },
        "id": "gc-P2IpFLCbp",
        "outputId": "471cfe55-0c92-451c-d011-ce88bb773051"
      },
      "execution_count": null,
      "outputs": [
        {
          "output_type": "execute_result",
          "data": {
            "text/plain": [
              "False"
            ]
          },
          "metadata": {},
          "execution_count": 27
        }
      ]
    },
    {
      "cell_type": "code",
      "source": [
        "\"datta\" and 1"
      ],
      "metadata": {
        "colab": {
          "base_uri": "https://localhost:8080/"
        },
        "id": "vCwvY8rpLOd8",
        "outputId": "15d1fc04-d18b-4743-e49e-fab0459c1688"
      },
      "execution_count": null,
      "outputs": [
        {
          "output_type": "execute_result",
          "data": {
            "text/plain": [
              "1"
            ]
          },
          "metadata": {},
          "execution_count": 30
        }
      ]
    },
    {
      "cell_type": "code",
      "source": [
        "3<=3"
      ],
      "metadata": {
        "colab": {
          "base_uri": "https://localhost:8080/"
        },
        "id": "sJqUuzhZNjWY",
        "outputId": "a390a6d3-dbf9-4bdb-ea8e-11b346441283"
      },
      "execution_count": null,
      "outputs": [
        {
          "output_type": "execute_result",
          "data": {
            "text/plain": [
              "True"
            ]
          },
          "metadata": {},
          "execution_count": 1
        }
      ]
    }
  ]
}